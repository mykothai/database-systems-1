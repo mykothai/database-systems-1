{
 "cells": [
  {
   "cell_type": "markdown",
   "metadata": {},
   "source": [
    "# HW1. SQL Basics"
   ]
  },
  {
   "cell_type": "markdown",
   "metadata": {},
   "source": [
    "## Objectives"
   ]
  },
  {
   "cell_type": "markdown",
   "metadata": {},
   "source": [
    "In this homework assignment, you will use SQL to store and query a database. You will learn the followings:\n",
    "\n",
    " - How to create a database\n",
    " - How to create a table \n",
    " - How to change a table after creation\n",
    " - How to insert data into a table\n",
    " - How to select certain rows or columns from a table\n",
    " - How to join two tables together\n",
    " - How to use expressions\n",
    " \n",
    " This assignment has a total of four questions and 25 points. "
   ]
  },
  {
   "cell_type": "markdown",
   "metadata": {},
   "source": [
    "You will also use [SQLite](https://en.wikipedia.org/wiki/SQLite) as the DBMS. In contrast to many other database management systems (e.g., Oracle, DB2, and SQL Servier), SQLite is not a client–server database engine. Rather, it is embedded into the end program. This unique feature has led it to be adopted by [billions of applications](https://www.sqlite.org/mostdeployed.html). \n"
   ]
  },
  {
   "cell_type": "markdown",
   "metadata": {},
   "source": [
    "## Setup "
   ]
  },
  {
   "cell_type": "markdown",
   "metadata": {},
   "source": [
    "1. Install Jupyter Notebook\n",
    "\n",
    "[Jupyter](https://jupyter.org/) is an open-source web application that allows you to create and share documents that contain live code, equations, visualizations and narrative text. Please install it using [Anaconda](https://www.anaconda.com/distribution/) for python 2.7.\n",
    "\n",
    "2. Install SQLite\n",
    "\n",
    "If you are using Mac OS X or Linux, SQLite should be pre-installed. Open a terminal and type sqlite3. To exit, type \".exit\"\n",
    "\n",
    "If you are using Windows, please follow the instructions on [here](http://www.sqlitetutorial.net/download-install-sqlite/) to install SQLite\n",
    "\n",
    "\n",
    "3. Install ipython-sql\n",
    "\n",
    "[ipython-sql](https://github.com/catherinedevlin/ipython-sql) is a jupyter notebook extension. It allows using SQL queries inside jupyter notebooks. Please install it using Anaconda:\n",
    "\n",
    "    Open a terminal and type conda install -c conda-forge ipython-sql\n",
    "\n"
   ]
  },
  {
   "cell_type": "markdown",
   "metadata": {},
   "source": [
    "## Initial Test"
   ]
  },
  {
   "cell_type": "markdown",
   "metadata": {},
   "source": [
    "Please download and follow the steps on the [test.ipynb](test.ipynb) to test your environment before you start your homework assignment."
   ]
  },
  {
   "cell_type": "markdown",
   "metadata": {},
   "source": [
    "# HomeWork"
   ]
  },
  {
   "cell_type": "markdown",
   "metadata": {},
   "source": [
    "## Q1: Create a database (4 points)"
   ]
  },
  {
   "cell_type": "markdown",
   "metadata": {},
   "source": [
    "The goal is to create a database to manage student and course information in computing science department (named `cssys`), and then create three tables in this database. The first table is named `students`, the second table is named `courses`, and the third table is called `transcript`. "
   ]
  },
  {
   "cell_type": "markdown",
   "metadata": {},
   "source": [
    "To start, please execute the following cell to load the [ipython-sql](https://github.com/catherinedevlin/ipython-sql) extension."
   ]
  },
  {
   "cell_type": "code",
   "execution_count": 1,
   "metadata": {},
   "outputs": [],
   "source": [
    "%load_ext sql"
   ]
  },
  {
   "cell_type": "markdown",
   "metadata": {},
   "source": [
    "### 1.1 (1 point) Create an empty database  named `cssys`"
   ]
  },
  {
   "cell_type": "code",
   "execution_count": 2,
   "metadata": {},
   "outputs": [
    {
     "data": {
      "text/plain": [
       "u'Connected: @cssys.db'"
      ]
     },
     "execution_count": 2,
     "metadata": {},
     "output_type": "execute_result"
    }
   ],
   "source": [
    "%sql sqlite:///cssys.db"
   ]
  },
  {
   "cell_type": "markdown",
   "metadata": {},
   "source": [
    "### 1.2 (1 point) Create a  table  named `students`"
   ]
  },
  {
   "cell_type": "markdown",
   "metadata": {},
   "source": [
    "Please create a table named `students`.\n",
    "The `students` table has six attributes: studentid, firstname, lastname, age, gender, gpa\n",
    "* `id` - integer\n",
    "* `firstname` - char(15)\n",
    "* `lastname` - char(15)\n",
    "* `age` - integer\n",
    "* `gender` - char(1)\n",
    "* `gpa` - double\n",
    "* `id` is Primary Key"
   ]
  },
  {
   "cell_type": "code",
   "execution_count": 3,
   "metadata": {},
   "outputs": [
    {
     "name": "stdout",
     "output_type": "stream",
     "text": [
      " * sqlite:///cssys.db\n",
      "(sqlite3.OperationalError) table students already exists\n",
      "[SQL: CREATE TABLE students (id integer PRIMARY KEY, \n",
      "                       firstname char(15), \n",
      "                       lastname char(15), \n",
      "                       age integer, \n",
      "                       gender char(1), \n",
      "                       gpa double)]\n",
      "(Background on this error at: http://sqlalche.me/e/e3q8)\n"
     ]
    }
   ],
   "source": [
    "%%sql\n",
    "\n",
    "CREATE TABLE students (id integer PRIMARY KEY, \n",
    "                       firstname char(15), \n",
    "                       lastname char(15), \n",
    "                       age integer, \n",
    "                       gender char(1), \n",
    "                       gpa double)"
   ]
  },
  {
   "cell_type": "markdown",
   "metadata": {},
   "source": [
    "### 1.3 (1 point) Create a table  named `courses`"
   ]
  },
  {
   "cell_type": "markdown",
   "metadata": {},
   "source": [
    "Please create a table named `courses`.\n",
    "The `courses` table has four attributes: id, name, credit, prereq \n",
    "* `id`- integer\n",
    "* `name` - varchar(30)\n",
    "* `credit` - integer\n",
    "* `prereq` - integer\n",
    "* (`id`, `prereq`) is Primary Key"
   ]
  },
  {
   "cell_type": "code",
   "execution_count": null,
   "metadata": {},
   "outputs": [],
   "source": [
    "%%sql\n",
    "\n",
    "CREATE TABLE courses (id integer, \n",
    "                      name varchar(30), \n",
    "                      credit integer, \n",
    "                      prereq integer, \n",
    "                      PRIMARY KEY (id, prereq))"
   ]
  },
  {
   "cell_type": "markdown",
   "metadata": {},
   "source": [
    "### 1.4 (1 point) Create a table  named `transcript`"
   ]
  },
  {
   "cell_type": "markdown",
   "metadata": {},
   "source": [
    "Please create a table named `transcript`.\n",
    "The `transcript` table has five columns: studentid, courseid, mark, semester, credit\n",
    "* `studentid`- integer\n",
    "* `courseid` - integer\n",
    "* `mark` - double\n",
    "* `semester` - integer (represented as `year + 01:fall, 02:spring, 03:summer`)\n",
    "* `credit` - integer\n",
    "* (`studentid`,`courseid`) is Primary Key"
   ]
  },
  {
   "cell_type": "code",
   "execution_count": null,
   "metadata": {},
   "outputs": [],
   "source": [
    "%%sql\n",
    "\n",
    "CREATE TABLE transcript (studentid integer, \n",
    "                         courseid integer, \n",
    "                         mark double, \n",
    "                         semester integer 'year + 01:fall, 02:spring, 03:summer', \n",
    "                         credit integer,\n",
    "                         PRIMARY KEY (studentid, courseid))"
   ]
  },
  {
   "cell_type": "markdown",
   "metadata": {},
   "source": [
    "## Q2: Modify a database (3 points)"
   ]
  },
  {
   "cell_type": "markdown",
   "metadata": {},
   "source": [
    "Please write SQL queries to delete the age attribute and as a Date of Birth (dob) attribute to table `students`. Please decide on the type and the default value of this attribute and include it in your response. You can decide how to perform this using delete and recreate or modify. "
   ]
  },
  {
   "cell_type": "code",
   "execution_count": null,
   "metadata": {
    "scrolled": true
   },
   "outputs": [],
   "source": [
    "%%sql\n",
    "\n",
    "DROP TABLE students_backup;\n",
    "\n",
    "ALTER TABLE students \n",
    "    RENAME TO students_backup;\n",
    "\n",
    "CREATE TABLE students (id integer PRIMARY KEY, firstname char(15), lastname char(15), gender char(1), gpa double);\n",
    "\n",
    "INSERT INTO students (id, firstname, lastname, gender, gpa)\n",
    "    SELECT id, firstname, lastname, gender, gpa\n",
    "    FROM students_backup;\n",
    "\n",
    "ALTER TABLE students\n",
    "    ADD COLUMN dob date;"
   ]
  },
  {
   "cell_type": "markdown",
   "metadata": {},
   "source": [
    "## Q3: Add data to a database (6 points)"
   ]
  },
  {
   "cell_type": "markdown",
   "metadata": {},
   "source": [
    "### 3.1 (2 points) Add rows to `students`."
   ]
  },
  {
   "cell_type": "markdown",
   "metadata": {},
   "source": [
    "Please write SQL queries to insert the following rows to the `students` table. Change the format of date of birth attribute value based on your definition of its type.\n",
    "```\n",
    "1001, adam, smith, 2000-01-03, m, 3.1\n",
    "1002, alice, frank, 1999-03-11, f , 3.4\n",
    "1003, bob, hal, 1999-09-01, m, 2\n",
    "```"
   ]
  },
  {
   "cell_type": "code",
   "execution_count": null,
   "metadata": {
    "scrolled": true
   },
   "outputs": [],
   "source": [
    "%%sql\n",
    "\n",
    "INSERT INTO students (id, firstname, lastname, dob, gender, gpa) \n",
    "    VALUES  (1001, 'adam', 'smith', '2000-01-03', 'm', 3.1),\n",
    "            (1002, 'alice', 'frank', '1999-03-11', 'f' , 3.4),\n",
    "            (1003, 'bob', 'hal', '1999-09-01', 'm', 2);"
   ]
  },
  {
   "cell_type": "markdown",
   "metadata": {},
   "source": [
    "### 3.2 (2 points) Add rows to `courses`."
   ]
  },
  {
   "cell_type": "markdown",
   "metadata": {},
   "source": [
    "Please write SQL queries to insert the following rows to the `courses` table.\n",
    "```\n",
    "100, programming, 3, NULL\n",
    "110, math, 3, NULL\n",
    "120, web, 4, NULL\n",
    "301, networking, 4, 200\n",
    "301, networking, 4, 150\n",
    "301, networking, 4, 210\n",
    "354, database, 3, 120\n",
    "354, database, 3, 110\n",
    "360, os, 3, 150\n",
    "360, os, 3, 210\n",
    "```"
   ]
  },
  {
   "cell_type": "code",
   "execution_count": null,
   "metadata": {
    "scrolled": true
   },
   "outputs": [],
   "source": [
    "%%sql\n",
    "\n",
    "INSERT INTO courses (id, name, credit, prereq)\n",
    "    VALUES  (100, 'programming', 3, 'NULL'),\n",
    "            (110, 'math', 3, 'NULL'),\n",
    "            (120, 'web', 4, 'NULL'), \n",
    "            (301, 'networking', 4, 200),\n",
    "            (301, 'networking', 4, 150),\n",
    "            (301, 'networking', 4, 210),\n",
    "            (354, 'database', 3, 120),\n",
    "            (354, 'database', 3, 110),\n",
    "            (360, 'os', 3, 150),\n",
    "            (360, 'os', 3, 210);"
   ]
  },
  {
   "cell_type": "markdown",
   "metadata": {},
   "source": [
    "### 3.3 (2 points) Add rows to `transcript`."
   ]
  },
  {
   "cell_type": "markdown",
   "metadata": {},
   "source": [
    "Please write SQL queries to insert the following rows to the `transcript` table.\n",
    "```\n",
    "1001, 100, 3, 201801, 3\n",
    "1001, 110, 3.5, 201801, 3\n",
    "1001, 120, 2.7, 201801, 4\n",
    "1001, 301, 3.4, 201802, 4\n",
    "1002, 100, 3, 201801, 3\n",
    "1002, 110, 3.2, 201901, 3\n",
    "1002, 301, 3.1, 201902, 4\n",
    "1003, 100, 2.5, 201801, 3\n",
    "1003, 120, 3.5, 201901, 4\n",
    "1003, 301, 2.8, 201902, 4\n",
    "1003, 354, 4, 201903, 3\n",
    "1003, 360, 3.5, 201802, 3\n",
    "\n",
    "```"
   ]
  },
  {
   "cell_type": "code",
   "execution_count": null,
   "metadata": {
    "scrolled": true
   },
   "outputs": [],
   "source": [
    "%%sql\n",
    "\n",
    "INSERT INTO transcript (studentid, courseid, mark, semester, credit)\n",
    "    VALUES  (1001, 100, 3, 201801, 3),\n",
    "            (1001, 110, 3.5, 201801, 3),\n",
    "            (1001, 120, 2.7, 201801, 4),\n",
    "            (1001, 301, 3.4, 201802, 4),\n",
    "            (1002, 100, 3, 201801, 3),\n",
    "            (1002, 110, 3.2, 201901, 3),\n",
    "            (1002, 301, 3.1, 201902, 4),\n",
    "            (1003, 100, 2.5, 201801, 3),\n",
    "            (1003, 120, 3.5, 201901, 4),\n",
    "            (1003, 301, 2.8, 201902, 4),\n",
    "            (1003, 354, 4, 201903, 3),\n",
    "            (1003, 360, 3.5, 201802, 3);"
   ]
  },
  {
   "cell_type": "markdown",
   "metadata": {},
   "source": [
    "## Q4: Query a database (12 points)"
   ]
  },
  {
   "cell_type": "markdown",
   "metadata": {},
   "source": [
    "Please write the SQL query for each of the requests below."
   ]
  },
  {
   "cell_type": "markdown",
   "metadata": {},
   "source": [
    "4.1 (1 point) Please write an SQL query to show all rows in the `students` table."
   ]
  },
  {
   "cell_type": "code",
   "execution_count": 4,
   "metadata": {},
   "outputs": [
    {
     "name": "stdout",
     "output_type": "stream",
     "text": [
      " * sqlite:///cssys.db\n",
      "Done.\n"
     ]
    },
    {
     "data": {
      "text/html": [
       "<table>\n",
       "    <tr>\n",
       "        <th>id</th>\n",
       "        <th>firstname</th>\n",
       "        <th>lastname</th>\n",
       "        <th>gender</th>\n",
       "        <th>gpa</th>\n",
       "        <th>dob</th>\n",
       "    </tr>\n",
       "    <tr>\n",
       "        <td>1001</td>\n",
       "        <td>adam</td>\n",
       "        <td>smith</td>\n",
       "        <td>m</td>\n",
       "        <td>3.1</td>\n",
       "        <td>2000-01-03</td>\n",
       "    </tr>\n",
       "    <tr>\n",
       "        <td>1002</td>\n",
       "        <td>alice</td>\n",
       "        <td>frank</td>\n",
       "        <td>f</td>\n",
       "        <td>3.4</td>\n",
       "        <td>1999-03-11</td>\n",
       "    </tr>\n",
       "    <tr>\n",
       "        <td>1003</td>\n",
       "        <td>bob</td>\n",
       "        <td>hal</td>\n",
       "        <td>m</td>\n",
       "        <td>2.0</td>\n",
       "        <td>1999-09-01</td>\n",
       "    </tr>\n",
       "</table>"
      ],
      "text/plain": [
       "[(1001, u'adam', u'smith', u'm', 3.1, u'2000-01-03'),\n",
       " (1002, u'alice', u'frank', u'f', 3.4, u'1999-03-11'),\n",
       " (1003, u'bob', u'hal', u'm', 2.0, u'1999-09-01')]"
      ]
     },
     "execution_count": 4,
     "metadata": {},
     "output_type": "execute_result"
    }
   ],
   "source": [
    "%%sql\n",
    "\n",
    "SELECT * FROM students"
   ]
  },
  {
   "cell_type": "markdown",
   "metadata": {},
   "source": [
    "4.2 (1 point) Please write an SQL query to show the rows whose `credit` is `3` in the `courses` table."
   ]
  },
  {
   "cell_type": "code",
   "execution_count": 5,
   "metadata": {
    "scrolled": true
   },
   "outputs": [
    {
     "name": "stdout",
     "output_type": "stream",
     "text": [
      " * sqlite:///cssys.db\n",
      "Done.\n"
     ]
    },
    {
     "data": {
      "text/html": [
       "<table>\n",
       "    <tr>\n",
       "        <th>id</th>\n",
       "        <th>name</th>\n",
       "        <th>credit</th>\n",
       "        <th>prereq</th>\n",
       "    </tr>\n",
       "    <tr>\n",
       "        <td>100</td>\n",
       "        <td>programming</td>\n",
       "        <td>3</td>\n",
       "        <td>NULL</td>\n",
       "    </tr>\n",
       "    <tr>\n",
       "        <td>110</td>\n",
       "        <td>math</td>\n",
       "        <td>3</td>\n",
       "        <td>NULL</td>\n",
       "    </tr>\n",
       "    <tr>\n",
       "        <td>354</td>\n",
       "        <td>database</td>\n",
       "        <td>3</td>\n",
       "        <td>120</td>\n",
       "    </tr>\n",
       "    <tr>\n",
       "        <td>354</td>\n",
       "        <td>database</td>\n",
       "        <td>3</td>\n",
       "        <td>110</td>\n",
       "    </tr>\n",
       "    <tr>\n",
       "        <td>360</td>\n",
       "        <td>os</td>\n",
       "        <td>3</td>\n",
       "        <td>150</td>\n",
       "    </tr>\n",
       "    <tr>\n",
       "        <td>360</td>\n",
       "        <td>os</td>\n",
       "        <td>3</td>\n",
       "        <td>210</td>\n",
       "    </tr>\n",
       "</table>"
      ],
      "text/plain": [
       "[(100, u'programming', 3, u'NULL'),\n",
       " (110, u'math', 3, u'NULL'),\n",
       " (354, u'database', 3, 120),\n",
       " (354, u'database', 3, 110),\n",
       " (360, u'os', 3, 150),\n",
       " (360, u'os', 3, 210)]"
      ]
     },
     "execution_count": 5,
     "metadata": {},
     "output_type": "execute_result"
    }
   ],
   "source": [
    "%%sql\n",
    "\n",
    "SELECT * \n",
    "FROM courses\n",
    "WHERE credit = 3"
   ]
  },
  {
   "cell_type": "markdown",
   "metadata": {},
   "source": [
    "4.3 (1 point) Please write an SQL query to show the rows whose `mark` is larger than 3 and `credit` is no smaller than 3 in the `transcript` table. "
   ]
  },
  {
   "cell_type": "code",
   "execution_count": 6,
   "metadata": {},
   "outputs": [
    {
     "name": "stdout",
     "output_type": "stream",
     "text": [
      " * sqlite:///cssys.db\n",
      "Done.\n"
     ]
    },
    {
     "data": {
      "text/html": [
       "<table>\n",
       "    <tr>\n",
       "        <th>studentid</th>\n",
       "        <th>courseid</th>\n",
       "        <th>mark</th>\n",
       "        <th>semester</th>\n",
       "        <th>credit</th>\n",
       "        <th>lettergrade</th>\n",
       "    </tr>\n",
       "    <tr>\n",
       "        <td>1001</td>\n",
       "        <td>110</td>\n",
       "        <td>3.5</td>\n",
       "        <td>201801</td>\n",
       "        <td>3</td>\n",
       "        <td>A</td>\n",
       "    </tr>\n",
       "    <tr>\n",
       "        <td>1001</td>\n",
       "        <td>301</td>\n",
       "        <td>3.4</td>\n",
       "        <td>201802</td>\n",
       "        <td>4</td>\n",
       "        <td>B</td>\n",
       "    </tr>\n",
       "    <tr>\n",
       "        <td>1002</td>\n",
       "        <td>110</td>\n",
       "        <td>3.2</td>\n",
       "        <td>201901</td>\n",
       "        <td>3</td>\n",
       "        <td>B</td>\n",
       "    </tr>\n",
       "    <tr>\n",
       "        <td>1002</td>\n",
       "        <td>301</td>\n",
       "        <td>3.1</td>\n",
       "        <td>201902</td>\n",
       "        <td>4</td>\n",
       "        <td>B</td>\n",
       "    </tr>\n",
       "    <tr>\n",
       "        <td>1003</td>\n",
       "        <td>120</td>\n",
       "        <td>3.5</td>\n",
       "        <td>201901</td>\n",
       "        <td>4</td>\n",
       "        <td>A</td>\n",
       "    </tr>\n",
       "    <tr>\n",
       "        <td>1003</td>\n",
       "        <td>354</td>\n",
       "        <td>4.0</td>\n",
       "        <td>201903</td>\n",
       "        <td>3</td>\n",
       "        <td>A</td>\n",
       "    </tr>\n",
       "    <tr>\n",
       "        <td>1003</td>\n",
       "        <td>360</td>\n",
       "        <td>3.5</td>\n",
       "        <td>201802</td>\n",
       "        <td>3</td>\n",
       "        <td>A</td>\n",
       "    </tr>\n",
       "</table>"
      ],
      "text/plain": [
       "[(1001, 110, 3.5, 201801, 3, u'A'),\n",
       " (1001, 301, 3.4, 201802, 4, u'B'),\n",
       " (1002, 110, 3.2, 201901, 3, u'B'),\n",
       " (1002, 301, 3.1, 201902, 4, u'B'),\n",
       " (1003, 120, 3.5, 201901, 4, u'A'),\n",
       " (1003, 354, 4.0, 201903, 3, u'A'),\n",
       " (1003, 360, 3.5, 201802, 3, u'A')]"
      ]
     },
     "execution_count": 6,
     "metadata": {},
     "output_type": "execute_result"
    }
   ],
   "source": [
    "%%sql\n",
    "\n",
    "SELECT * \n",
    "FROM transcript\n",
    "WHERE mark > 3\n",
    "AND credit >= 3"
   ]
  },
  {
   "cell_type": "markdown",
   "metadata": {},
   "source": [
    "4.4 (1 point) Please write an SQL query to show `studentid`, `courseid` and `mark` of all rows in the `transcript` table. "
   ]
  },
  {
   "cell_type": "code",
   "execution_count": null,
   "metadata": {},
   "outputs": [],
   "source": [
    "%%sql\n",
    "\n",
    "SELECT studentid, courseid, mark\n",
    "FROM transcript"
   ]
  },
  {
   "cell_type": "markdown",
   "metadata": {},
   "source": [
    "4.5 (1 point) Please write an SQL query to show `studentid`, `courseid` and `mark` of all rows in the `transcript` table whose semester value is `201902`."
   ]
  },
  {
   "cell_type": "code",
   "execution_count": null,
   "metadata": {},
   "outputs": [],
   "source": [
    "%%sql\n",
    "\n",
    "SELECT studentid, courseid, mark\n",
    "FROM transcript\n",
    "WHERE semester = 201902"
   ]
  },
  {
   "cell_type": "markdown",
   "metadata": {},
   "source": [
    "4.6 (1 point) Please write an SQL query to show _distinct_ `courseid` of all rows in the `transcript` table."
   ]
  },
  {
   "cell_type": "code",
   "execution_count": null,
   "metadata": {},
   "outputs": [],
   "source": [
    "%%sql\n",
    "\n",
    "SELECT DISTINCT courseid\n",
    "FROM transcript"
   ]
  },
  {
   "cell_type": "markdown",
   "metadata": {},
   "source": [
    "4.7 (2 points) Please write an SQL query to show the `firstname` and `lastname` and `gpa` from `students` table and sort it based on `gpa`."
   ]
  },
  {
   "cell_type": "code",
   "execution_count": null,
   "metadata": {},
   "outputs": [],
   "source": [
    "%%sql\n",
    "\n",
    "SELECT firstname, lastname, gpa\n",
    "FROM students\n",
    "ORDER BY gpa"
   ]
  },
  {
   "cell_type": "markdown",
   "metadata": {},
   "source": [
    "4.8 (4 points) Please write an SQL query to compute `lettergrade` of each row in the `transcript` table, and show `studentid`, `courseid` and `lettergrade` of all rows in the `transcript` table. `lettergrade` is computed as follows: \n",
    "\n",
    "* If `mark` >= 3.5, then `lettergrade` = \"A\"\n",
    "* If 3 <= `mark` < 3.5, then `lettergrade` = \"B\"\n",
    "* If 2.5 <= `mark` < 3, then `lettergrade` = \"C\"\n",
    "* If 2 <= `mark` < 2.5, then `lettergrade` = \"D\"\n",
    "* If `mark` < 2, then `lettergrade` = \"F\""
   ]
  },
  {
   "cell_type": "code",
   "execution_count": null,
   "metadata": {},
   "outputs": [],
   "source": [
    "%%sql\n",
    "\n",
    "ALTER TABLE transcript\n",
    "ADD lettergrade char(1);\n",
    "\n",
    "UPDATE transcript\n",
    "SET lettergrade = 'A'\n",
    "WHERE mark >= 3.5;\n",
    "\n",
    "UPDATE transcript\n",
    "SET lettergrade = 'B'\n",
    "WHERE mark >= 3 AND mark < 3.5;\n",
    "\n",
    "UPDATE transcript\n",
    "SET lettergrade = 'C'\n",
    "WHERE mark >= 2.5 AND mark < 3;\n",
    "\n",
    "UPDATE transcript\n",
    "SET lettergrade = 'D'\n",
    "WHERE mark >= 2 AND mark < 2.5;\n",
    "\n",
    "UPDATE transcript\n",
    "SET lettergrade = 'F'\n",
    "WHERE mark < 2;\n",
    "\n",
    "SELECT studentid, courseid, lettergrade\n",
    "FROM transcript;"
   ]
  },
  {
   "cell_type": "markdown",
   "metadata": {},
   "source": [
    "## Submission"
   ]
  },
  {
   "cell_type": "markdown",
   "metadata": {},
   "source": [
    "Complete the code in this notebook [hw1.ipynb](hw1.ipynb), and submit it to through Canvas system to your HW1 activity. You can also include a pdf file where you can add your comments, thoughts, explanations about any of the questions."
   ]
  }
 ],
 "metadata": {
  "kernelspec": {
   "display_name": "Python 2",
   "language": "python",
   "name": "python2"
  },
  "language_info": {
   "codemirror_mode": {
    "name": "ipython",
    "version": 2
   },
   "file_extension": ".py",
   "mimetype": "text/x-python",
   "name": "python",
   "nbconvert_exporter": "python",
   "pygments_lexer": "ipython2",
   "version": "2.7.16"
  }
 },
 "nbformat": 4,
 "nbformat_minor": 2
}
